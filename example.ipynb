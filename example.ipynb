{
 "cells": [
  {
   "cell_type": "code",
   "execution_count": 1,
   "metadata": {},
   "outputs": [],
   "source": [
    "# Load Imports\n",
    "from pathlib import Path\n",
    "from epoch_cheats import get_deck_constants"
   ]
  },
  {
   "cell_type": "code",
   "execution_count": 12,
   "id": "53a54679",
   "metadata": {},
   "outputs": [],
   "source": [
    "# Create Path object pointing to test_input.deck\n",
    "deck_path = Path(\"tests/test_input.deck\")\n",
    "# Get the constants block as a dict\n",
    "constants = get_deck_constants(deck_path)"
   ]
  },
  {
   "cell_type": "code",
   "execution_count": 13,
   "id": "d867dcc6",
   "metadata": {},
   "outputs": [
    {
     "data": {
      "text/plain": [
       "{'qe': 1.60217663e-19,\n",
       " 'mu0': 1.25663706212e-06,\n",
       " 'kb': 1.380649e-23,\n",
       " 'pi': 3.14,\n",
       " 'g': 9.81}"
      ]
     },
     "execution_count": 13,
     "metadata": {},
     "output_type": "execute_result"
    }
   ],
   "source": [
    "# constants contains each constant as a key and its value as a float\n",
    "constants"
   ]
  },
  {
   "cell_type": "code",
   "execution_count": 6,
   "id": "03763025",
   "metadata": {},
   "outputs": [
    {
     "data": {
      "text/plain": [
       "9.81"
      ]
     },
     "execution_count": 6,
     "metadata": {},
     "output_type": "execute_result"
    }
   ],
   "source": [
    "# Extract using the normal syntax\n",
    "g = constants[\"g\"]\n",
    "g"
   ]
  },
  {
   "cell_type": "code",
   "execution_count": 14,
   "id": "a27bec93",
   "metadata": {},
   "outputs": [
    {
     "data": {
      "text/plain": [
       "{qe: 1.60217663e-19,\n",
       " mu0: 1.25663706212e-06,\n",
       " kb: 1.380649e-23,\n",
       " pi: 3.14,\n",
       " g: 9.81}"
      ]
     },
     "execution_count": 14,
     "metadata": {},
     "output_type": "execute_result"
    }
   ],
   "source": [
    "# use get_constants_sym() to get a dict with sympy symbols as keys\n",
    "from epoch_cheats import get_deck_constants_sym\n",
    "sympy_constants = get_deck_constants_sym(deck_path)\n",
    "sympy_constants"
   ]
  },
  {
   "cell_type": "code",
   "execution_count": 18,
   "id": "365525c2",
   "metadata": {},
   "outputs": [
    {
     "name": "stdout",
     "output_type": "stream",
     "text": [
      "Keys:\n",
      "qe <class 'sympy.core.symbol.Symbol'>\n",
      "mu0 <class 'sympy.core.symbol.Symbol'>\n",
      "kb <class 'sympy.core.symbol.Symbol'>\n",
      "pi <class 'sympy.core.symbol.Symbol'>\n",
      "g <class 'sympy.core.symbol.Symbol'>\n",
      "\n",
      "Get 'g' using Symbol('g'):\n",
      "g = 9.81\n"
     ]
    }
   ],
   "source": [
    "# Access keys using sympy Symbols\n",
    "from sympy import Symbol\n",
    "keys = list(sympy_constants.keys())\n",
    "print(\"Keys:\")\n",
    "print('\\n'.join([f\"{k} {type(k)}\" for k in keys]))\n",
    "print(\"\\nGet 'g' using Symbol('g'):\")\n",
    "print(f\"g = {sympy_constants[Symbol('g')]}\")\n"
   ]
  },
  {
   "cell_type": "code",
   "execution_count": 19,
   "id": "c6e7b859",
   "metadata": {},
   "outputs": [
    {
     "name": "stdout",
     "output_type": "stream",
     "text": [
      "[NbConvertApp] Converting notebook example.ipynb to markdown\n",
      "/Users/jamesplank/.pyenv/versions/3.10.5/envs/epoch-cheats-dev/lib/python3.10/site-packages/nbformat/__init__.py:93: MissingIDFieldWarning: Code cell is missing an id field, this will become a hard error in future nbformat versions. You may want to use `normalize()` on your notebooks before validations (available since nbformat 5.1.4). Previous versions of nbformat are fixing this issue transparently, and will stop doing so in the future.\n",
      "  validate(nb)\n",
      "^C\n"
     ]
    }
   ],
   "source": [
    "!jupyter nbconvert --to markdown example.ipynb"
   ]
  },
  {
   "cell_type": "code",
   "execution_count": null,
   "id": "80753e1e",
   "metadata": {},
   "outputs": [],
   "source": []
  }
 ],
 "metadata": {
  "kernelspec": {
   "display_name": "epoch-cheats-dev",
   "language": "python",
   "name": "python3"
  },
  "language_info": {
   "codemirror_mode": {
    "name": "ipython",
    "version": 3
   },
   "file_extension": ".py",
   "mimetype": "text/x-python",
   "name": "python",
   "nbconvert_exporter": "python",
   "pygments_lexer": "ipython3",
   "version": "3.10.5"
  }
 },
 "nbformat": 4,
 "nbformat_minor": 5
}
